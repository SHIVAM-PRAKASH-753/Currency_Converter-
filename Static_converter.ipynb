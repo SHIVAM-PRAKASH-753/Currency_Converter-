{
 "cells": [
  {
   "cell_type": "code",
   "execution_count": 1,
   "metadata": {
    "collapsed": true
   },
   "outputs": [],
   "source": [
    "import pandas as pd"
   ]
  },
  {
   "cell_type": "code",
   "execution_count": 2,
   "outputs": [
    {
     "data": {
      "text/plain": "   INR     AED   AFN   ALL   AMD     ANG   AOA   ARS     AUD     AWG  ...  \\\n0    1  0.0495  1.06  1.39  6.92  0.0241  8.82  1.29  0.0179  0.0241  ...   \n\n    VUV    WST   XAF     XCD      XDR   XOF   XPF   YER    ZAR    ZMW  \n0  1.47  0.034  7.43  0.0364  0.00944  7.43  1.35  3.36  0.193  0.304  \n\n[1 rows x 160 columns]",
      "text/html": "<div>\n<style scoped>\n    .dataframe tbody tr th:only-of-type {\n        vertical-align: middle;\n    }\n\n    .dataframe tbody tr th {\n        vertical-align: top;\n    }\n\n    .dataframe thead th {\n        text-align: right;\n    }\n</style>\n<table border=\"1\" class=\"dataframe\">\n  <thead>\n    <tr style=\"text-align: right;\">\n      <th></th>\n      <th>INR</th>\n      <th>AED</th>\n      <th>AFN</th>\n      <th>ALL</th>\n      <th>AMD</th>\n      <th>ANG</th>\n      <th>AOA</th>\n      <th>ARS</th>\n      <th>AUD</th>\n      <th>AWG</th>\n      <th>...</th>\n      <th>VUV</th>\n      <th>WST</th>\n      <th>XAF</th>\n      <th>XCD</th>\n      <th>XDR</th>\n      <th>XOF</th>\n      <th>XPF</th>\n      <th>YER</th>\n      <th>ZAR</th>\n      <th>ZMW</th>\n    </tr>\n  </thead>\n  <tbody>\n    <tr>\n      <th>0</th>\n      <td>1</td>\n      <td>0.0495</td>\n      <td>1.06</td>\n      <td>1.39</td>\n      <td>6.92</td>\n      <td>0.0241</td>\n      <td>8.82</td>\n      <td>1.29</td>\n      <td>0.0179</td>\n      <td>0.0241</td>\n      <td>...</td>\n      <td>1.47</td>\n      <td>0.034</td>\n      <td>7.43</td>\n      <td>0.0364</td>\n      <td>0.00944</td>\n      <td>7.43</td>\n      <td>1.35</td>\n      <td>3.36</td>\n      <td>0.193</td>\n      <td>0.304</td>\n    </tr>\n  </tbody>\n</table>\n<p>1 rows × 160 columns</p>\n</div>"
     },
     "execution_count": 2,
     "metadata": {},
     "output_type": "execute_result"
    }
   ],
   "source": [
    "frm = input(\"Enter FROM Currency: \")\n",
    "frm = frm.upper()\n",
    "df = pd.read_csv(\"./Currencies/\"+frm+\"res.csv\")\n",
    "df\n"
   ],
   "metadata": {
    "collapsed": false,
    "pycharm": {
     "name": "#%%\n"
    }
   }
  },
  {
   "cell_type": "code",
   "execution_count": 3,
   "outputs": [
    {
     "name": "stdout",
     "output_type": "stream",
     "text": [
      "INR = [1]\n",
      "AED = [0.0495]\n",
      "AFN = [1.06]\n",
      "ALL = [1.39]\n",
      "AMD = [6.92]\n",
      "ANG = [0.0241]\n",
      "AOA = [8.82]\n",
      "ARS = [1.29]\n",
      "AUD = [0.0179]\n",
      "AWG = [0.0241]\n",
      "AZN = [0.0228]\n",
      "BAM = [0.0221]\n",
      "BBD = [0.0269]\n",
      "BDT = [1.14]\n",
      "BGN = [0.0221]\n",
      "BHD = [0.00506]\n",
      "BIF = [26.67]\n",
      "BMD = [0.0135]\n",
      "BND = [0.0181]\n",
      "BOB = [0.0929]\n",
      "BRL = [0.0676]\n",
      "BSD = [0.0135]\n",
      "BTN = [1]\n",
      "BWP = [0.146]\n",
      "BYN = [0.0341]\n",
      "BZD = [0.0269]\n",
      "CAD = [0.0167]\n",
      "CDF = [26.81]\n",
      "CHF = [0.0124]\n",
      "CLP = [10.07]\n",
      "CNY = [0.0872]\n",
      "COP = [50.53]\n",
      "CRC = [8.33]\n",
      "CUC = [0.0135]\n",
      "CUP = [0.347]\n",
      "CVE = [1.25]\n",
      "CZK = [0.29]\n",
      "DJF = [2.39]\n",
      "DKK = [0.0844]\n",
      "DOP = [0.767]\n",
      "DZD = [1.8]\n",
      "EGP = [0.211]\n",
      "ERN = [0.202]\n",
      "ETB = [0.593]\n",
      "EUR = [0.0113]\n",
      "FJD = [0.0279]\n",
      "FKP = [0.0097]\n",
      "FOK = [0.0844]\n",
      "GBP = [0.0097]\n",
      "GEL = [0.0426]\n",
      "GGP = [0.0097]\n",
      "GHS = [0.0785]\n",
      "GIP = [0.0097]\n",
      "GMD = [0.7]\n",
      "GNF = [132.44]\n",
      "GTQ = [0.104]\n",
      "GYD = [2.82]\n",
      "HKD = [0.105]\n",
      "HNL = [0.323]\n",
      "HRK = [0.0853]\n",
      "HTG = [1.23]\n",
      "HUF = [4.02]\n",
      "IDR = [195.02]\n",
      "ILS = [0.0442]\n",
      "IMP = [0.0097]\n",
      "IQD = [19.67]\n",
      "IRR = [565.43]\n",
      "ISK = [1.66]\n",
      "JMD = [2.03]\n",
      "JOD = [0.00955]\n",
      "JPY = [1.49]\n",
      "KES = [1.45]\n",
      "KGS = [1.14]\n",
      "KHR = [55]\n",
      "KID = [0.0179]\n",
      "KMF = [5.57]\n",
      "KRW = [15.28]\n",
      "KWD = [0.00404]\n",
      "KYD = [0.0112]\n",
      "KZT = [5.76]\n",
      "LAK = [127.22]\n",
      "LBP = [20.3]\n",
      "LKR = [2.68]\n",
      "LRD = [2.3]\n",
      "LSL = [0.193]\n",
      "LYD = [0.0602]\n",
      "MAD = [0.12]\n",
      "MDL = [0.24]\n",
      "MGA = [50.92]\n",
      "MKD = [0.699]\n",
      "MMK = [22.15]\n",
      "MNT = [38.39]\n",
      "MOP = [0.108]\n",
      "MRU = [0.487]\n",
      "MUR = [0.553]\n",
      "MVR = [0.207]\n",
      "MWK = [10.87]\n",
      "MXN = [0.277]\n",
      "MYR = [0.056]\n",
      "MZN = [0.857]\n",
      "NAD = [0.193]\n",
      "NGN = [5.73]\n",
      "NIO = [0.47]\n",
      "NOK = [0.116]\n",
      "NPR = [1.6]\n",
      "NZD = [0.0192]\n",
      "OMR = [0.00518]\n",
      "PAB = [0.0135]\n",
      "PEN = [0.0533]\n",
      "PGK = [0.0473]\n",
      "PHP = [0.656]\n",
      "PKR = [2.12]\n",
      "PLN = [0.0514]\n",
      "PYG = [91.11]\n",
      "QAR = [0.049]\n",
      "RON = [0.0558]\n",
      "RSD = [1.33]\n",
      "RUB = [0.985]\n",
      "RWF = [13.54]\n",
      "SAR = [0.0505]\n",
      "SBD = [0.109]\n",
      "SCR = [0.213]\n",
      "SDG = [5.85]\n",
      "SEK = [0.115]\n",
      "SGD = [0.0181]\n",
      "SHP = [0.0097]\n",
      "SLL = [138.26]\n",
      "SOS = [7.8]\n",
      "SRD = [0.284]\n",
      "SSP = [2.39]\n",
      "STN = [0.277]\n",
      "SYP = [16.9]\n",
      "SZL = [0.193]\n",
      "THB = [0.428]\n",
      "TJS = [0.152]\n",
      "TMT = [0.0472]\n",
      "TND = [0.0372]\n",
      "TOP = [0.03]\n",
      "TRY = [0.117]\n",
      "TTD = [0.0913]\n",
      "TVD = [0.0179]\n",
      "TWD = [0.376]\n",
      "TZS = [31.22]\n",
      "UAH = [0.368]\n",
      "UGX = [47.89]\n",
      "USD = [0.0135]\n",
      "UYU = [0.59]\n",
      "UZS = [144.17]\n",
      "VES = [42811.76]\n",
      "VND = [308.78]\n",
      "VUV = [1.47]\n",
      "WST = [0.034]\n",
      "XAF = [7.43]\n",
      "XCD = [0.0364]\n",
      "XDR = [0.00944]\n",
      "XOF = [7.43]\n",
      "XPF = [1.35]\n",
      "YER = [3.36]\n",
      "ZAR = [0.193]\n",
      "ZMW = [0.304]\n"
     ]
    }
   ],
   "source": [
    "\n",
    "for column in df:\n",
    "    #colVal = df[column]\n",
    "    print(column, \"=\", df[column].values)"
   ],
   "metadata": {
    "collapsed": false,
    "pycharm": {
     "name": "#%%\n"
    }
   }
  },
  {
   "cell_type": "code",
   "execution_count": 4,
   "outputs": [
    {
     "name": "stdout",
     "output_type": "stream",
     "text": [
      "Enter INR Amount:\n",
      "100.0\n",
      "USD\n",
      "100.0 INR =  [1.35] USD\n"
     ]
    }
   ],
   "source": [
    "\n",
    "print(\"Enter\", frm, \"Amount:\")\n",
    "amt = float(input(\"Enter Amount:\"))\n",
    "to_amt = input(\"Enter CURRENCY to be Converted:\")\n",
    "to_amt = to_amt.upper()\n",
    "print(amt)\n",
    "print(to_amt)\n",
    "\n",
    "final_amt = 0\n",
    "for column in df:\n",
    "    if to_amt == column:\n",
    "        final_amt = amt*df[column].values\n",
    "\n",
    "print(amt, \"INR = \",final_amt, to_amt)"
   ],
   "metadata": {
    "collapsed": false,
    "pycharm": {
     "name": "#%%\n"
    }
   }
  },
  {
   "cell_type": "code",
   "execution_count": null,
   "outputs": [],
   "source": [],
   "metadata": {
    "collapsed": false,
    "pycharm": {
     "name": "#%%\n"
    }
   }
  }
 ],
 "metadata": {
  "kernelspec": {
   "display_name": "Python 3",
   "language": "python",
   "name": "python3"
  },
  "language_info": {
   "codemirror_mode": {
    "name": "ipython",
    "version": 2
   },
   "file_extension": ".py",
   "mimetype": "text/x-python",
   "name": "python",
   "nbconvert_exporter": "python",
   "pygments_lexer": "ipython2",
   "version": "2.7.6"
  }
 },
 "nbformat": 4,
 "nbformat_minor": 0
}
